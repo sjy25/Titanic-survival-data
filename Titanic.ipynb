{
 "cells": [
  {
   "cell_type": "markdown",
   "metadata": {},
   "source": [
    "# Overview\n",
    "On April 15, 1912, the passenger liner Titanic collided with an iceberg during her maiden voyage as the world's largest and fastest ship.More than 1500 passengers and crew died, making this one of the deadliest sinkings of a single passenger ship to date.\n",
    "\n",
    "Data recorded from this tragedy includes passenger info such as gender, class of travel, and survival status.This provides the opportunity to determine whether or not variables such as gender were correlated with a passenger's chances of survival. If correlation is established, it will deepen our understanding of the culture and social practices at the time (e.g. priority given to women, children and the rich)\n",
    "\n",
    "This project comprises two parts, namely:\n",
    "\n",
    "(i) Exploratory data analysis -conducted data pre-processing, which included replacing NaN values for age with mean values -explored and visualized relationships between survival status and variables such as class and gender\n",
    "\n",
    "(ii) Machine learning model to predict the survival status of a passenger -conducted data pre-processing, which included converting categorical data to binary numbers -tested three models, namely decision tree, multilayer perceptron and random forest classifier -evaluated the models using F1 and AUC-ROC scores -tuned the model using feature selection and improved F1 and AUC-ROC scores\n",
    "\n",
    "## Dataset\n",
    "\n",
    "The principal source for data about Titanic passengers is the Encyclopedia Titanica.This data does not contain information from the crew, but it does contain actual ages of half of the passengers, as well as other information such as class of travel and gender.\n",
    "\n",
    "The dataset used for this project is from the Seaborn online repository which had already undergone a small amount of pre-processing.\n",
    "\n",
    "## Findings\n",
    "\n",
    "(i) Women and first class passengers had a significantly higher chance of survival\n",
    "\n",
    "(ii) Out of the three models tested, the multilayer perceptron had the highest F1 and AUC-ROC scores"
   ]
  },
  {
   "cell_type": "code",
   "execution_count": 152,
   "metadata": {},
   "outputs": [],
   "source": [
    "#import relevant packages\n",
    "\n",
    "#for data analysis and visualization\n",
    "import numpy as np\n",
    "import pandas as pd\n",
    "import matplotlib.pyplot as plt\n",
    "import seaborn as sns\n",
    "from scipy import stats\n",
    "import ipy_table as tbl\n",
    "from prettytable import PrettyTable \n",
    "\n",
    "\n",
    "#for machine learning\n",
    "from sklearn.preprocessing import LabelEncoder\n",
    "from sklearn.model_selection import train_test_split\n",
    "from sklearn.tree import DecisionTreeClassifier\n",
    "from sklearn.neural_network import MLPClassifier\n",
    "from sklearn.metrics import precision_score\n",
    "from sklearn import tree\n",
    "from sklearn.ensemble import RandomForestClassifier\n",
    "from sklearn.metrics import accuracy_score\n",
    "from sklearn import metrics\n",
    "\n",
    "#silence pandas warnings\n",
    "import warnings\n",
    "warnings.filterwarnings('ignore')"
   ]
  },
  {
   "cell_type": "code",
   "execution_count": 153,
   "metadata": {},
   "outputs": [
    {
     "data": {
      "text/html": [
       "<div>\n",
       "<style scoped>\n",
       "    .dataframe tbody tr th:only-of-type {\n",
       "        vertical-align: middle;\n",
       "    }\n",
       "\n",
       "    .dataframe tbody tr th {\n",
       "        vertical-align: top;\n",
       "    }\n",
       "\n",
       "    .dataframe thead th {\n",
       "        text-align: right;\n",
       "    }\n",
       "</style>\n",
       "<table border=\"1\" class=\"dataframe\">\n",
       "  <thead>\n",
       "    <tr style=\"text-align: right;\">\n",
       "      <th></th>\n",
       "      <th>survived</th>\n",
       "      <th>pclass</th>\n",
       "      <th>sex</th>\n",
       "      <th>age</th>\n",
       "      <th>sibsp</th>\n",
       "      <th>parch</th>\n",
       "      <th>fare</th>\n",
       "      <th>embarked</th>\n",
       "      <th>class</th>\n",
       "      <th>who</th>\n",
       "      <th>adult_male</th>\n",
       "      <th>deck</th>\n",
       "      <th>embark_town</th>\n",
       "      <th>alive</th>\n",
       "      <th>alone</th>\n",
       "    </tr>\n",
       "  </thead>\n",
       "  <tbody>\n",
       "    <tr>\n",
       "      <th>0</th>\n",
       "      <td>0</td>\n",
       "      <td>3</td>\n",
       "      <td>male</td>\n",
       "      <td>22.0</td>\n",
       "      <td>1</td>\n",
       "      <td>0</td>\n",
       "      <td>7.2500</td>\n",
       "      <td>S</td>\n",
       "      <td>Third</td>\n",
       "      <td>man</td>\n",
       "      <td>True</td>\n",
       "      <td>NaN</td>\n",
       "      <td>Southampton</td>\n",
       "      <td>no</td>\n",
       "      <td>False</td>\n",
       "    </tr>\n",
       "    <tr>\n",
       "      <th>1</th>\n",
       "      <td>1</td>\n",
       "      <td>1</td>\n",
       "      <td>female</td>\n",
       "      <td>38.0</td>\n",
       "      <td>1</td>\n",
       "      <td>0</td>\n",
       "      <td>71.2833</td>\n",
       "      <td>C</td>\n",
       "      <td>First</td>\n",
       "      <td>woman</td>\n",
       "      <td>False</td>\n",
       "      <td>C</td>\n",
       "      <td>Cherbourg</td>\n",
       "      <td>yes</td>\n",
       "      <td>False</td>\n",
       "    </tr>\n",
       "    <tr>\n",
       "      <th>2</th>\n",
       "      <td>1</td>\n",
       "      <td>3</td>\n",
       "      <td>female</td>\n",
       "      <td>26.0</td>\n",
       "      <td>0</td>\n",
       "      <td>0</td>\n",
       "      <td>7.9250</td>\n",
       "      <td>S</td>\n",
       "      <td>Third</td>\n",
       "      <td>woman</td>\n",
       "      <td>False</td>\n",
       "      <td>NaN</td>\n",
       "      <td>Southampton</td>\n",
       "      <td>yes</td>\n",
       "      <td>True</td>\n",
       "    </tr>\n",
       "    <tr>\n",
       "      <th>3</th>\n",
       "      <td>1</td>\n",
       "      <td>1</td>\n",
       "      <td>female</td>\n",
       "      <td>35.0</td>\n",
       "      <td>1</td>\n",
       "      <td>0</td>\n",
       "      <td>53.1000</td>\n",
       "      <td>S</td>\n",
       "      <td>First</td>\n",
       "      <td>woman</td>\n",
       "      <td>False</td>\n",
       "      <td>C</td>\n",
       "      <td>Southampton</td>\n",
       "      <td>yes</td>\n",
       "      <td>False</td>\n",
       "    </tr>\n",
       "    <tr>\n",
       "      <th>4</th>\n",
       "      <td>0</td>\n",
       "      <td>3</td>\n",
       "      <td>male</td>\n",
       "      <td>35.0</td>\n",
       "      <td>0</td>\n",
       "      <td>0</td>\n",
       "      <td>8.0500</td>\n",
       "      <td>S</td>\n",
       "      <td>Third</td>\n",
       "      <td>man</td>\n",
       "      <td>True</td>\n",
       "      <td>NaN</td>\n",
       "      <td>Southampton</td>\n",
       "      <td>no</td>\n",
       "      <td>True</td>\n",
       "    </tr>\n",
       "  </tbody>\n",
       "</table>\n",
       "</div>"
      ],
      "text/plain": [
       "   survived  pclass     sex   age  sibsp  parch     fare embarked  class  \\\n",
       "0         0       3    male  22.0      1      0   7.2500        S  Third   \n",
       "1         1       1  female  38.0      1      0  71.2833        C  First   \n",
       "2         1       3  female  26.0      0      0   7.9250        S  Third   \n",
       "3         1       1  female  35.0      1      0  53.1000        S  First   \n",
       "4         0       3    male  35.0      0      0   8.0500        S  Third   \n",
       "\n",
       "     who  adult_male deck  embark_town alive  alone  \n",
       "0    man        True  NaN  Southampton    no  False  \n",
       "1  woman       False    C    Cherbourg   yes  False  \n",
       "2  woman       False  NaN  Southampton   yes   True  \n",
       "3  woman       False    C  Southampton   yes  False  \n",
       "4    man        True  NaN  Southampton    no   True  "
      ]
     },
     "execution_count": 153,
     "metadata": {},
     "output_type": "execute_result"
    }
   ],
   "source": [
    "#load dataset from seaborn repository\n",
    "data = sns.load_dataset('titanic')\n",
    "data.head()"
   ]
  },
  {
   "cell_type": "code",
   "execution_count": 154,
   "metadata": {},
   "outputs": [
    {
     "data": {
      "text/html": [
       "<div>\n",
       "<style scoped>\n",
       "    .dataframe tbody tr th:only-of-type {\n",
       "        vertical-align: middle;\n",
       "    }\n",
       "\n",
       "    .dataframe tbody tr th {\n",
       "        vertical-align: top;\n",
       "    }\n",
       "\n",
       "    .dataframe thead th {\n",
       "        text-align: right;\n",
       "    }\n",
       "</style>\n",
       "<table border=\"1\" class=\"dataframe\">\n",
       "  <thead>\n",
       "    <tr style=\"text-align: right;\">\n",
       "      <th></th>\n",
       "      <th>survived</th>\n",
       "      <th>pclass</th>\n",
       "      <th>age</th>\n",
       "      <th>sibsp</th>\n",
       "      <th>parch</th>\n",
       "      <th>fare</th>\n",
       "    </tr>\n",
       "  </thead>\n",
       "  <tbody>\n",
       "    <tr>\n",
       "      <th>count</th>\n",
       "      <td>891.000000</td>\n",
       "      <td>891.000000</td>\n",
       "      <td>714.000000</td>\n",
       "      <td>891.000000</td>\n",
       "      <td>891.000000</td>\n",
       "      <td>891.000000</td>\n",
       "    </tr>\n",
       "    <tr>\n",
       "      <th>mean</th>\n",
       "      <td>0.383838</td>\n",
       "      <td>2.308642</td>\n",
       "      <td>29.699118</td>\n",
       "      <td>0.523008</td>\n",
       "      <td>0.381594</td>\n",
       "      <td>32.204208</td>\n",
       "    </tr>\n",
       "    <tr>\n",
       "      <th>std</th>\n",
       "      <td>0.486592</td>\n",
       "      <td>0.836071</td>\n",
       "      <td>14.526497</td>\n",
       "      <td>1.102743</td>\n",
       "      <td>0.806057</td>\n",
       "      <td>49.693429</td>\n",
       "    </tr>\n",
       "    <tr>\n",
       "      <th>min</th>\n",
       "      <td>0.000000</td>\n",
       "      <td>1.000000</td>\n",
       "      <td>0.420000</td>\n",
       "      <td>0.000000</td>\n",
       "      <td>0.000000</td>\n",
       "      <td>0.000000</td>\n",
       "    </tr>\n",
       "    <tr>\n",
       "      <th>25%</th>\n",
       "      <td>0.000000</td>\n",
       "      <td>2.000000</td>\n",
       "      <td>20.125000</td>\n",
       "      <td>0.000000</td>\n",
       "      <td>0.000000</td>\n",
       "      <td>7.910400</td>\n",
       "    </tr>\n",
       "    <tr>\n",
       "      <th>50%</th>\n",
       "      <td>0.000000</td>\n",
       "      <td>3.000000</td>\n",
       "      <td>28.000000</td>\n",
       "      <td>0.000000</td>\n",
       "      <td>0.000000</td>\n",
       "      <td>14.454200</td>\n",
       "    </tr>\n",
       "    <tr>\n",
       "      <th>75%</th>\n",
       "      <td>1.000000</td>\n",
       "      <td>3.000000</td>\n",
       "      <td>38.000000</td>\n",
       "      <td>1.000000</td>\n",
       "      <td>0.000000</td>\n",
       "      <td>31.000000</td>\n",
       "    </tr>\n",
       "    <tr>\n",
       "      <th>max</th>\n",
       "      <td>1.000000</td>\n",
       "      <td>3.000000</td>\n",
       "      <td>80.000000</td>\n",
       "      <td>8.000000</td>\n",
       "      <td>6.000000</td>\n",
       "      <td>512.329200</td>\n",
       "    </tr>\n",
       "  </tbody>\n",
       "</table>\n",
       "</div>"
      ],
      "text/plain": [
       "         survived      pclass         age       sibsp       parch        fare\n",
       "count  891.000000  891.000000  714.000000  891.000000  891.000000  891.000000\n",
       "mean     0.383838    2.308642   29.699118    0.523008    0.381594   32.204208\n",
       "std      0.486592    0.836071   14.526497    1.102743    0.806057   49.693429\n",
       "min      0.000000    1.000000    0.420000    0.000000    0.000000    0.000000\n",
       "25%      0.000000    2.000000   20.125000    0.000000    0.000000    7.910400\n",
       "50%      0.000000    3.000000   28.000000    0.000000    0.000000   14.454200\n",
       "75%      1.000000    3.000000   38.000000    1.000000    0.000000   31.000000\n",
       "max      1.000000    3.000000   80.000000    8.000000    6.000000  512.329200"
      ]
     },
     "execution_count": 154,
     "metadata": {},
     "output_type": "execute_result"
    }
   ],
   "source": [
    "#inspect data\n",
    "data.describe()\n"
   ]
  },
  {
   "cell_type": "code",
   "execution_count": 155,
   "metadata": {},
   "outputs": [
    {
     "name": "stdout",
     "output_type": "stream",
     "text": [
      "<class 'pandas.core.frame.DataFrame'>\n",
      "RangeIndex: 891 entries, 0 to 890\n",
      "Data columns (total 15 columns):\n",
      " #   Column       Non-Null Count  Dtype   \n",
      "---  ------       --------------  -----   \n",
      " 0   survived     891 non-null    int64   \n",
      " 1   pclass       891 non-null    int64   \n",
      " 2   sex          891 non-null    object  \n",
      " 3   age          714 non-null    float64 \n",
      " 4   sibsp        891 non-null    int64   \n",
      " 5   parch        891 non-null    int64   \n",
      " 6   fare         891 non-null    float64 \n",
      " 7   embarked     889 non-null    object  \n",
      " 8   class        891 non-null    category\n",
      " 9   who          891 non-null    object  \n",
      " 10  adult_male   891 non-null    bool    \n",
      " 11  deck         203 non-null    category\n",
      " 12  embark_town  889 non-null    object  \n",
      " 13  alive        891 non-null    object  \n",
      " 14  alone        891 non-null    bool    \n",
      "dtypes: bool(2), category(2), float64(2), int64(4), object(5)\n",
      "memory usage: 80.7+ KB\n"
     ]
    }
   ],
   "source": [
    "data.info()"
   ]
  },
  {
   "cell_type": "code",
   "execution_count": 156,
   "metadata": {},
   "outputs": [
    {
     "data": {
      "text/plain": [
       "survived         0\n",
       "pclass           0\n",
       "sex              0\n",
       "age            177\n",
       "sibsp            0\n",
       "parch            0\n",
       "fare             0\n",
       "embarked         2\n",
       "class            0\n",
       "who              0\n",
       "adult_male       0\n",
       "deck           688\n",
       "embark_town      2\n",
       "alive            0\n",
       "alone            0\n",
       "dtype: int64"
      ]
     },
     "execution_count": 156,
     "metadata": {},
     "output_type": "execute_result"
    }
   ],
   "source": [
    "#data pre-processing\n",
    "#check for missing values\n",
    "data.isnull().sum()\n"
   ]
  },
  {
   "cell_type": "code",
   "execution_count": 157,
   "metadata": {},
   "outputs": [],
   "source": [
    "#replace NaN values for age with mean\n",
    "data['age'].fillna((data['age'].mean()), inplace=True)"
   ]
  },
  {
   "cell_type": "code",
   "execution_count": 158,
   "metadata": {},
   "outputs": [],
   "source": [
    "#drop columns that wont be used in analysis \n",
    "data.drop(['who', 'deck','embark_town','sibsp','parch','alive','fare','embarked','adult_male'], axis=1, inplace=True)\n"
   ]
  },
  {
   "cell_type": "code",
   "execution_count": 159,
   "metadata": {},
   "outputs": [
    {
     "data": {
      "text/html": [
       "<div>\n",
       "<style scoped>\n",
       "    .dataframe tbody tr th:only-of-type {\n",
       "        vertical-align: middle;\n",
       "    }\n",
       "\n",
       "    .dataframe tbody tr th {\n",
       "        vertical-align: top;\n",
       "    }\n",
       "\n",
       "    .dataframe thead th {\n",
       "        text-align: right;\n",
       "    }\n",
       "</style>\n",
       "<table border=\"1\" class=\"dataframe\">\n",
       "  <thead>\n",
       "    <tr style=\"text-align: right;\">\n",
       "      <th></th>\n",
       "      <th>survived</th>\n",
       "      <th>pclass</th>\n",
       "      <th>sex</th>\n",
       "      <th>age</th>\n",
       "      <th>class</th>\n",
       "      <th>alone</th>\n",
       "    </tr>\n",
       "  </thead>\n",
       "  <tbody>\n",
       "    <tr>\n",
       "      <th>0</th>\n",
       "      <td>0</td>\n",
       "      <td>3</td>\n",
       "      <td>male</td>\n",
       "      <td>22.0</td>\n",
       "      <td>Third</td>\n",
       "      <td>False</td>\n",
       "    </tr>\n",
       "    <tr>\n",
       "      <th>1</th>\n",
       "      <td>1</td>\n",
       "      <td>1</td>\n",
       "      <td>female</td>\n",
       "      <td>38.0</td>\n",
       "      <td>First</td>\n",
       "      <td>False</td>\n",
       "    </tr>\n",
       "    <tr>\n",
       "      <th>2</th>\n",
       "      <td>1</td>\n",
       "      <td>3</td>\n",
       "      <td>female</td>\n",
       "      <td>26.0</td>\n",
       "      <td>Third</td>\n",
       "      <td>True</td>\n",
       "    </tr>\n",
       "    <tr>\n",
       "      <th>3</th>\n",
       "      <td>1</td>\n",
       "      <td>1</td>\n",
       "      <td>female</td>\n",
       "      <td>35.0</td>\n",
       "      <td>First</td>\n",
       "      <td>False</td>\n",
       "    </tr>\n",
       "    <tr>\n",
       "      <th>4</th>\n",
       "      <td>0</td>\n",
       "      <td>3</td>\n",
       "      <td>male</td>\n",
       "      <td>35.0</td>\n",
       "      <td>Third</td>\n",
       "      <td>True</td>\n",
       "    </tr>\n",
       "  </tbody>\n",
       "</table>\n",
       "</div>"
      ],
      "text/plain": [
       "   survived  pclass     sex   age  class  alone\n",
       "0         0       3    male  22.0  Third  False\n",
       "1         1       1  female  38.0  First  False\n",
       "2         1       3  female  26.0  Third   True\n",
       "3         1       1  female  35.0  First  False\n",
       "4         0       3    male  35.0  Third   True"
      ]
     },
     "execution_count": 159,
     "metadata": {},
     "output_type": "execute_result"
    }
   ],
   "source": [
    "#check dataframe\n",
    "data.head()"
   ]
  },
  {
   "cell_type": "markdown",
   "metadata": {},
   "source": [
    "# Exploratory Data analysis \n"
   ]
  },
  {
   "cell_type": "code",
   "execution_count": 160,
   "metadata": {},
   "outputs": [
    {
     "data": {
      "text/plain": [
       "Text(0.5, 1.0, '% of survivors and non survivors by class')"
      ]
     },
     "execution_count": 160,
     "metadata": {},
     "output_type": "execute_result"
    },
    {
     "data": {
      "image/png": "[encoded data removed]",
      "text/plain": [
       "<Figure size 720x360 with 2 Axes>"
      ]
     },
     "metadata": {
      "needs_background": "light"
     },
     "output_type": "display_data"
    }
   ],
   "source": [
    "#compare the profiles of those who survived with those who did not, starting with class of travel\n",
    "\n",
    "#create variables for survivors and non survivors data\n",
    "survivors_data = data[data.survived==True]\n",
    "non_survivors_data = data[data.survived==False]\n",
    "\n",
    "\n",
    "# calculate values for each category by class\n",
    "survivors_class = survivors_data.groupby(['class']).size().values\n",
    "non_survivors_class = non_survivors_data.groupby(['class']).size().values\n",
    "\n",
    "# calculate totals for percentages\n",
    "total = survivors_class + non_survivors_class\n",
    "\n",
    "#create a function to calculate percentage\n",
    "def calculate_percentage(val, total, format_percent = False):\n",
    "    percent = np.divide(val, total, dtype=float)\n",
    "    if format_percent:\n",
    "        percent = as_percent(percent)\n",
    "    return percent\n",
    "\n",
    "# use calculate_percentage_function to calculate percentage of the total\n",
    "s_percentages = calculate_percentage(survivors_class, total)*100 \n",
    "ns_percentages = calculate_percentage(non_survivors_class, total)*100 \n",
    "\n",
    "# plot bar chart for count of survivors by class\n",
    "class_categories = ['First', 'Second', 'Third']\n",
    "f, (ax1, ax2) = plt.subplots(1, 2, figsize=(10,5))\n",
    "ax1.bar(range(len(survivors_class)), survivors_class, label='Survivors', alpha=0.5, color='b')\n",
    "ax1.bar(range(len(non_survivors_class)), non_survivors_class, bottom=survivors_class, label='Non-Survivors', alpha=0.5, color='r')\n",
    "plt.sca(ax1)\n",
    "plt.xticks([0, 1, 2], class_categories )\n",
    "ax1.set_ylabel(\"Count\")\n",
    "ax1.set_xlabel(\"\")\n",
    "ax1.set_title(\"Survival status by class\",fontsize=14)\n",
    "plt.legend(loc='upper right')\n",
    "\n",
    "\n",
    "# add bar chart for percentage of survivors by class\n",
    "ax2.bar(range(len(s_percentages)), s_percentages, alpha=0.5, color='b')\n",
    "ax2.bar(range(len(ns_percentages)), ns_percentages, bottom=s_percentages, alpha=0.5, color='r')\n",
    "plt.sca(ax2)\n",
    "plt.xticks([0, 1,2],class_categories)\n",
    "ax2.set_ylabel(\"Percentage\")\n",
    "ax2.set_xlabel(\"\")\n",
    "ax2.set_title(\"% of survivors and non survivors by class\",fontsize=14)\n",
    "\n",
    "\n"
   ]
  },
  {
   "cell_type": "code",
   "execution_count": 161,
   "metadata": {},
   "outputs": [
    {
     "data": {
      "text/html": [
       "<table border=\"1\" cellpadding=\"3\" cellspacing=\"0\"  style=\"border:black; border-collapse:collapse;\"><tr><td  style=\"border-left: 1px solid;border-right: 1px solid;border-top: 1px solid;border-bottom: 1px solid;\">Item</td><td  style=\"border-left: 1px solid;border-right: 1px solid;border-top: 1px solid;border-bottom: 1px solid;\">Value</td></tr><tr><td  style=\"border-left: 1px solid;border-right: 1px solid;border-top: 1px solid;border-bottom: 1px solid;\">Chi-Square&nbsp;Test</td><td  style=\"border-left: 1px solid;border-right: 1px solid;border-top: 1px solid;border-bottom: 1px solid;\">102.8890</td></tr><tr><td  style=\"border-left: 1px solid;border-right: 1px solid;border-top: 1px solid;border-bottom: 1px solid;\">P-Value</td><td  style=\"border-left: 1px solid;border-right: 1px solid;border-top: 1px solid;border-bottom: 1px solid;\">0.0000</td></tr></table>"
      ],
      "text/plain": [
       "<ipy_table.ipy_table.IpyTable at 0x7feed31eba10>"
      ]
     },
     "execution_count": 161,
     "metadata": {},
     "output_type": "execute_result"
    }
   ],
   "source": [
    "\"\"\"\n",
    "the barplots seem to show a significant difference in survival rate by class. \n",
    "let's confirm the association between class and survival rate by checking the P value \n",
    "\"\"\"\n",
    "\n",
    "#run chi square test \n",
    "table = pd.crosstab([data['survived']], data['pclass'])\n",
    "chi2, p, dof, expected = stats.chi2_contingency(table.values)\n",
    "results = [\n",
    "    ['Item','Value'],\n",
    "    ['Chi-Square Test',chi2],\n",
    "    ['P-Value', p]\n",
    "]\n",
    "tbl.make_table(results)\n",
    "\n",
    "#since P<0.05, we can conclude that there is an association between the class of travel and the survival rate "
   ]
  },
  {
   "cell_type": "code",
   "execution_count": 162,
   "metadata": {},
   "outputs": [
    {
     "data": {
      "text/plain": [
       "sex\n",
       "female    0.742038\n",
       "male      0.188908\n",
       "Name: survived, dtype: float64"
      ]
     },
     "execution_count": 162,
     "metadata": {},
     "output_type": "execute_result"
    }
   ],
   "source": [
    "#analyze profile of survivors by gender \n",
    "\n",
    "#first look at overall gender makeup of survivors\n",
    "data.groupby('sex').survived.mean()"
   ]
  },
  {
   "cell_type": "code",
   "execution_count": 205,
   "metadata": {},
   "outputs": [
    {
     "data": {
      "text/plain": [
       "Text(0.5, 1.0, '% of survivors and non-survivors by gender')"
      ]
     },
     "execution_count": 205,
     "metadata": {},
     "output_type": "execute_result"
    },
    {
     "data": {
      "image/png": "[encoded data removed]",
      "text/plain": [
       "<Figure size 720x360 with 2 Axes>"
      ]
     },
     "metadata": {
      "needs_background": "light"
     },
     "output_type": "display_data"
    }
   ],
   "source": [
    "#group survivor data by gender\n",
    "survivors_gender = survivors_data.groupby(['sex']).size().values\n",
    "non_survivors_gender = non_survivors_data.groupby(['sex']).size().values\n",
    "\n",
    "# calculate totals for percentages\n",
    "totals = survivors_gender + non_survivors_gender\n",
    "\n",
    "# use calculate_percentage_function to calculate percentage of survivors by gender\n",
    "data1_percentages = calculate_percentage(survivors_gender, totals)*100 \n",
    "data2_percentages = calculate_percentage(non_survivors_gender, totals)*100 \n",
    "\n",
    "gender_categories = ['female', 'male']\n",
    "\n",
    "f, (ax1, ax2) = plt.subplots(1, 2, figsize=(10,5))\n",
    "# plot chart for count of survivors by gender\n",
    "ax1.bar(range(len(survivors_gender)), survivors_gender, label='Survivors', alpha=0.5, color='y')\n",
    "ax1.bar(range(len(non_survivors_gender)), non_survivors_gender, bottom=survivors_gender, label='Non-Survivors', alpha=0.5, color='r')\n",
    "plt.sca(ax1)\n",
    "plt.xticks([0, 1], gender_categories )\n",
    "ax1.set_ylabel(\"Count\")\n",
    "ax1.set_xlabel(\"\")\n",
    "ax1.set_title(\"Survival status by gender\",fontsize=14)\n",
    "plt.legend(loc='upper left')\n",
    "\n",
    "# plot chart for percentage of survivors by gender\n",
    "ax2.bar(range(len(data1_percentages)), data1_percentages, alpha=0.5, color='y')\n",
    "ax2.bar(range(len(data2_percentages)), data2_percentages, bottom=data1_percentages, alpha=0.5, color='r')\n",
    "plt.sca(ax2)\n",
    "plt.xticks([0, 1],  gender_categories)\n",
    "ax2.set_ylabel(\"Percentage\")\n",
    "ax2.set_xlabel(\"\")\n",
    "ax2.set_title(\"% of survivors and non-survivors by gender\",fontsize=14)\n",
    "\n",
    "\n",
    "#we can see that there were more male than female passengers on the titanic, but female passengers had a higher survival rate. The latter is in line with what we know about the evacuation procedures during that time, namely that priority was given to women and children\n"
   ]
  },
  {
   "cell_type": "code",
   "execution_count": 203,
   "metadata": {},
   "outputs": [
    {
     "data": {
      "text/html": [
       "<table border=\"1\" cellpadding=\"3\" cellspacing=\"0\"  style=\"border:black; border-collapse:collapse;\"><tr><td  style=\"border-left: 1px solid;border-right: 1px solid;border-top: 1px solid;border-bottom: 1px solid;\">Item</td><td  style=\"border-left: 1px solid;border-right: 1px solid;border-top: 1px solid;border-bottom: 1px solid;\">Value</td></tr><tr><td  style=\"border-left: 1px solid;border-right: 1px solid;border-top: 1px solid;border-bottom: 1px solid;\">Chi-Square&nbsp;Test</td><td  style=\"border-left: 1px solid;border-right: 1px solid;border-top: 1px solid;border-bottom: 1px solid;\">260.7170</td></tr><tr><td  style=\"border-left: 1px solid;border-right: 1px solid;border-top: 1px solid;border-bottom: 1px solid;\">P-Value</td><td  style=\"border-left: 1px solid;border-right: 1px solid;border-top: 1px solid;border-bottom: 1px solid;\">0.0000</td></tr></table>"
      ],
      "text/plain": [
       "<ipy_table.ipy_table.IpyTable at 0x7feeb7e79210>"
      ]
     },
     "execution_count": 203,
     "metadata": {},
     "output_type": "execute_result"
    }
   ],
   "source": [
    "\"\"\"\n",
    "the barplots seem to show a significant difference in survival rate by gender. \n",
    "let's confirm the association between gender and survival rate by checking the P value \n",
    "\"\"\"\n",
    "\n",
    "#run chi square test \n",
    "table = pd.crosstab([data['survived']], data['sex'])\n",
    "chi2, p, dof, expected = stats.chi2_contingency(table.values)\n",
    "results = [\n",
    "    ['Item','Value'],\n",
    "    ['Chi-Square Test',chi2],\n",
    "    ['P-Value', p]\n",
    "]\n",
    "tbl.make_table(results)\n",
    "\n",
    "#since P<0.05, we can conclude that there is an association between the class of travel and the survival rate "
   ]
  },
  {
   "cell_type": "markdown",
   "metadata": {},
   "source": [
    "# Machine learning models"
   ]
  },
  {
   "cell_type": "code",
   "execution_count": 164,
   "metadata": {},
   "outputs": [],
   "source": [
    "#data pre-processing\n",
    "#encode categorical data with binary numbers\n",
    "\n",
    "#encode sex- female (0), male (1)\n",
    "data['sex'].replace(['female','male'],[0,1],inplace=True)\n",
    "\n",
    "#encode alone- false(0),true (1)\n",
    "data['alone'].replace([False,True],[0,1],inplace=True)"
   ]
  },
  {
   "cell_type": "code",
   "execution_count": 165,
   "metadata": {},
   "outputs": [],
   "source": [
    "#drop class column since data is already captured in binary numbers in pclass\n",
    "data.drop(['class'], axis=1, inplace=True)"
   ]
  },
  {
   "cell_type": "code",
   "execution_count": 166,
   "metadata": {},
   "outputs": [
    {
     "data": {
      "text/html": [
       "<div>\n",
       "<style scoped>\n",
       "    .dataframe tbody tr th:only-of-type {\n",
       "        vertical-align: middle;\n",
       "    }\n",
       "\n",
       "    .dataframe tbody tr th {\n",
       "        vertical-align: top;\n",
       "    }\n",
       "\n",
       "    .dataframe thead th {\n",
       "        text-align: right;\n",
       "    }\n",
       "</style>\n",
       "<table border=\"1\" class=\"dataframe\">\n",
       "  <thead>\n",
       "    <tr style=\"text-align: right;\">\n",
       "      <th></th>\n",
       "      <th>survived</th>\n",
       "      <th>pclass</th>\n",
       "      <th>sex</th>\n",
       "      <th>age</th>\n",
       "      <th>alone</th>\n",
       "    </tr>\n",
       "  </thead>\n",
       "  <tbody>\n",
       "    <tr>\n",
       "      <th>0</th>\n",
       "      <td>0</td>\n",
       "      <td>3</td>\n",
       "      <td>1</td>\n",
       "      <td>22.0</td>\n",
       "      <td>0</td>\n",
       "    </tr>\n",
       "    <tr>\n",
       "      <th>1</th>\n",
       "      <td>1</td>\n",
       "      <td>1</td>\n",
       "      <td>0</td>\n",
       "      <td>38.0</td>\n",
       "      <td>0</td>\n",
       "    </tr>\n",
       "    <tr>\n",
       "      <th>2</th>\n",
       "      <td>1</td>\n",
       "      <td>3</td>\n",
       "      <td>0</td>\n",
       "      <td>26.0</td>\n",
       "      <td>1</td>\n",
       "    </tr>\n",
       "    <tr>\n",
       "      <th>3</th>\n",
       "      <td>1</td>\n",
       "      <td>1</td>\n",
       "      <td>0</td>\n",
       "      <td>35.0</td>\n",
       "      <td>0</td>\n",
       "    </tr>\n",
       "    <tr>\n",
       "      <th>4</th>\n",
       "      <td>0</td>\n",
       "      <td>3</td>\n",
       "      <td>1</td>\n",
       "      <td>35.0</td>\n",
       "      <td>1</td>\n",
       "    </tr>\n",
       "  </tbody>\n",
       "</table>\n",
       "</div>"
      ],
      "text/plain": [
       "   survived  pclass  sex   age  alone\n",
       "0         0       3    1  22.0      0\n",
       "1         1       1    0  38.0      0\n",
       "2         1       3    0  26.0      1\n",
       "3         1       1    0  35.0      0\n",
       "4         0       3    1  35.0      1"
      ]
     },
     "execution_count": 166,
     "metadata": {},
     "output_type": "execute_result"
    }
   ],
   "source": [
    "#check dataframe\n",
    "data.head()"
   ]
  },
  {
   "cell_type": "code",
   "execution_count": 167,
   "metadata": {},
   "outputs": [
    {
     "name": "stdout",
     "output_type": "stream",
     "text": [
      "(711, 4) (711,) (90, 4) (90,) (90, 4) (90,)\n"
     ]
    }
   ],
   "source": [
    "#train test split\n",
    "#separate features from target value\n",
    "X=data.drop('survived',axis=1)\n",
    "Y=data['survived']\n",
    "#perform a 80-10-10 split\n",
    "X_new, X_test,Y_new, Y_test = train_test_split(X, Y, test_size=0.1, random_state = 0)\n",
    "test_size = X_test.shape[0] / X_new.shape[0]\n",
    "X_train, X_dev, Y_train, Y_dev = train_test_split(X_new, Y_new, test_size=test_size, random_state = 0)\n",
    "print(X_train.shape,Y_train.shape,X_dev.shape,Y_dev.shape,X_test.shape,Y_test.shape)"
   ]
  },
  {
   "cell_type": "code",
   "execution_count": 168,
   "metadata": {},
   "outputs": [
    {
     "data": {
      "text/plain": [
       "DecisionTreeClassifier(class_weight=None, criterion='gini', max_depth=None,\n",
       "                       max_features=None, max_leaf_nodes=None,\n",
       "                       min_impurity_decrease=0.0, min_impurity_split=None,\n",
       "                       min_samples_leaf=1, min_samples_split=2,\n",
       "                       min_weight_fraction_leaf=0.0, presort=False,\n",
       "                       random_state=2, splitter='best')"
      ]
     },
     "execution_count": 168,
     "metadata": {},
     "output_type": "execute_result"
    }
   ],
   "source": [
    "#use decision tree algorithm to train model\n",
    "model_tree=DecisionTreeClassifier(random_state=2)\n",
    "model_tree.fit(X_train,Y_train)"
   ]
  },
  {
   "cell_type": "code",
   "execution_count": 180,
   "metadata": {},
   "outputs": [
    {
     "name": "stdout",
     "output_type": "stream",
     "text": [
      "The F1 score for the decision tree is 0.71.\n",
      "The AUC-ROC score for the decision tree is 0.77.\n"
     ]
    }
   ],
   "source": [
    "\"\"\"\n",
    "evaluate the decision tree model using F1 score and AUC-ROC\n",
    "\n",
    "Precision: True Positive / (True Positive + False Positive)\n",
    "Recall: True Positive / (True Positive + False Negative)\n",
    "F1 Score: 2 x [(Precision x Recall) / (Precision + Recall)]\n",
    "AUC-ROC: AUC (Area Under The Curve) ROC (Receiver Operating Characteristics) curve. \n",
    "AUC ROC indicates how well the probabilities from the positive classes are separated from the negative classes.\n",
    "\"\"\"\n",
    "# predict y values using testing set x variables\n",
    "predicted_values_DT = model_tree.predict(X_test)\n",
    "\n",
    "# F1 Score\n",
    "f1_score_DT= metrics.f1_score(Y_test, predicted_values_DT)\n",
    "\n",
    "# AUC ROC score\n",
    "auc_score_DT = metrics.roc_auc_score(Y_test, predicted_values_DT)\n",
    "print(f'The F1 score for the decision tree is {f1_score_DT:0.2f}.')\n",
    "print(f'The AUC-ROC score for the decision tree is {auc_score_DT:0.2f}.')"
   ]
  },
  {
   "cell_type": "code",
   "execution_count": 181,
   "metadata": {},
   "outputs": [
    {
     "data": {
      "text/plain": [
       "MLPClassifier(activation='relu', alpha=0.0001, batch_size='auto', beta_1=0.9,\n",
       "              beta_2=0.999, early_stopping=False, epsilon=1e-08,\n",
       "              hidden_layer_sizes=(100,), learning_rate='constant',\n",
       "              learning_rate_init=0.001, max_iter=200, momentum=0.9,\n",
       "              n_iter_no_change=10, nesterovs_momentum=True, power_t=0.5,\n",
       "              random_state=2, shuffle=True, solver='adam', tol=0.0001,\n",
       "              validation_fraction=0.1, verbose=False, warm_start=False)"
      ]
     },
     "execution_count": 181,
     "metadata": {},
     "output_type": "execute_result"
    }
   ],
   "source": [
    "#use multilayer perceptron (MLP) algorithm\n",
    "model_NN=MLPClassifier(random_state=2)\n",
    "model_NN.fit(X_train,Y_train)"
   ]
  },
  {
   "cell_type": "code",
   "execution_count": 182,
   "metadata": {},
   "outputs": [
    {
     "name": "stdout",
     "output_type": "stream",
     "text": [
      "The F1 score for the MLP is 0.78.\n",
      "The AUC-ROC score for the MLP is 0.81.\n"
     ]
    }
   ],
   "source": [
    "#evaluate the MLP model \n",
    "\n",
    "#predict y values using testing set x variables\n",
    "predicted_values_MLP = model_NN.predict(X_test)\n",
    "\n",
    "# F1 Score\n",
    "f1_score_MLP = metrics.f1_score(Y_test, predicted_values_MLP)\n",
    "\n",
    "# AUC ROC score\n",
    "auc_score_MLP = metrics.roc_auc_score(Y_test, predicted_values_MLP)\n",
    "print(f'The F1 score for the MLP is {f1_score_MLP:0.2f}.')\n",
    "print(f'The AUC-ROC score for the MLP is {auc_score_MLP:0.2f}.')"
   ]
  },
  {
   "cell_type": "code",
   "execution_count": 201,
   "metadata": {},
   "outputs": [
    {
     "name": "stdout",
     "output_type": "stream",
     "text": [
      "The F1 score for the RFC is 0.74.\n",
      "The AUC-ROC score for the RFC is 0.77.\n"
     ]
    }
   ],
   "source": [
    "#let's try a random forest classifier to see how it fares\n",
    "rfc = RandomForestClassifier()\n",
    "rfc.fit(X_train, Y_train)\n",
    "predicted_values_RF= rfc.predict(X_test)\n",
    "# F1 Score\n",
    "f1_score_RF = metrics.f1_score(Y_test, predicted_values_RF)\n",
    "\n",
    "# AUC ROC score\n",
    "auc_score_RF= metrics.roc_auc_score(Y_test, predicted_values_RF)\n",
    "print(f'The F1 score for the RFC is {f1_score_RF:0.2f}.')\n",
    "print(f'The AUC-ROC score for the RFC is {auc_score_RF:0.2f}.')"
   ]
  },
  {
   "cell_type": "code",
   "execution_count": 202,
   "metadata": {},
   "outputs": [
    {
     "name": "stdout",
     "output_type": "stream",
     "text": [
      "+---------------+--------------------+-----------------------+--------------------------+\n",
      "|               |   Decision Tree    | Multilayer Perceptron | Random Forest Classifier |\n",
      "+---------------+--------------------+-----------------------+--------------------------+\n",
      "|    f1 score   | 0.7096774193548387 |   0.7777777777777778  |    0.736842105263158     |\n",
      "| AUC-ROC score | 0.7722473604826545 |   0.8099547511312217  |    0.770739064856712     |\n",
      "+---------------+--------------------+-----------------------+--------------------------+\n"
     ]
    }
   ],
   "source": [
    "#compare the scores across all three models in a table \n",
    "\n",
    "# Specify the Column Names \n",
    "myTable = PrettyTable(['','Decision Tree', 'Multilayer Perceptron','Random Forest Classifier']) \n",
    "  \n",
    "# Add rows \n",
    "myTable.add_row(['f1 score',f1_score_DT, f1_score_MLP,f1_score_RF]) \n",
    "myTable.add_row(['AUC-ROC score', auc_score_DT, auc_score_MLP,auc_score_RF]) \n",
    "\n",
    "print(myTable)"
   ]
  }
 ],
 "metadata": {
  "kernelspec": {
   "display_name": "Python 3",
   "language": "python",
   "name": "python3"
  },
  "language_info": {
   "codemirror_mode": {
    "name": "ipython",
    "version": 3
   },
   "file_extension": ".py",
   "mimetype": "text/x-python",
   "name": "python",
   "nbconvert_exporter": "python",
   "pygments_lexer": "ipython3",
   "version": "3.7.4"
  }
 },
 "nbformat": 4,
 "nbformat_minor": 2
}
